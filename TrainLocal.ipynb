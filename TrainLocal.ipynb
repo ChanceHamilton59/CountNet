{
 "cells": [
  {
   "cell_type": "markdown",
   "id": "8c4fe27c-efd6-4f6d-ae43-e8c98364ff25",
   "metadata": {},
   "source": [
    "# Imports Classes and Libraries"
   ]
  },
  {
   "cell_type": "code",
   "execution_count": null,
   "id": "dad88ee4-97c2-4fc4-8a57-15f4c4ac7f1c",
   "metadata": {},
   "outputs": [],
   "source": [
    "import matplotlib.pyplot as plt\n",
    "import numpy as np\n",
    "import os\n",
    "\n",
    "from ModelUtils import *\n",
    "from CountNet import *\n",
    "import pickle\n",
    "\n",
    "import tensorflow as tf\n",
    "from tensorflow.keras import layers\n",
    "from keras.layers.core import Dense\n",
    "from tensorflow.keras.layers import *\n",
    "from tensorflow.keras.models import Sequential\n",
    "from tensorflow.keras.optimizers import Adam\n",
    "from keras.models import Model\n"
   ]
  },
  {
   "cell_type": "markdown",
   "id": "4936b114-b94b-4a2c-a930-b1a8791596c8",
   "metadata": {},
   "source": [
    "# Defines and Trains CountNet Model"
   ]
  },
  {
   "cell_type": "code",
   "execution_count": null,
   "id": "888fa624-d004-47ab-be6f-cf4a8ca293b5",
   "metadata": {},
   "outputs": [],
   "source": [
    "Model = CountNet('Model_EP5_LR01_BS256')\n",
    "Model.setData('Datasets/FullDataset.obj',split = [.7,.15,.15], batch_size = 256)\n",
    "Model.train(lr = 0.01, mntm=0.9, num_epochs=5, save_name = 'Models/Model')"
   ]
  },
  {
   "cell_type": "markdown",
   "id": "65a8dce5-e672-43d8-88b5-a2eb371e2427",
   "metadata": {},
   "source": [
    "## Evaluates Model and saves Test results for further processing"
   ]
  },
  {
   "cell_type": "code",
   "execution_count": null,
   "id": "7a19bee2-5642-47c7-8798-c03fe1c3badd",
   "metadata": {},
   "outputs": [],
   "source": [
    "Model.evaluate()"
   ]
  },
  {
   "cell_type": "markdown",
   "id": "e3773600-f2aa-4c81-a8e3-8c6386c77c99",
   "metadata": {},
   "source": [
    "# Processes Test Results of Trained CountNet Model"
   ]
  },
  {
   "cell_type": "code",
   "execution_count": null,
   "id": "f10e73b2-9d38-4df2-969b-40ed6c6820bb",
   "metadata": {},
   "outputs": [],
   "source": [
    "test_results = getData('RESULTS/TestData/TestResults.obj')"
   ]
  },
  {
   "cell_type": "code",
   "execution_count": null,
   "id": "1007da29-7e0e-4bf3-be81-636b897c8270",
   "metadata": {},
   "outputs": [],
   "source": [
    "error = 0\n",
    "accuracy = 0\n",
    "for result in test_results:\n",
    "    if result.ground_truth - result.prediction == 0 :\n",
    "        accuracy += 1\n",
    "    else:\n",
    "        error += (result.ground_truth - result.prediction)**2\t\n",
    "\n",
    "error = error / len(test_results)\n",
    "accuracy = accuracy / len(test_results)\n",
    "\n",
    "print(\"Corrected MSE       : \" + str(error))\n",
    "print(\"Prediction Accuracy : \" + str(accuracy))"
   ]
  },
  {
   "cell_type": "markdown",
   "id": "15658c08-1125-4751-83c5-5cbe50e4f1bf",
   "metadata": {},
   "source": [
    "## Gets Incorrect Predinctions and shows Distrabution of mispredicitons"
   ]
  },
  {
   "cell_type": "code",
   "execution_count": null,
   "id": "e2edb7a4-b1ab-4498-ad0d-0eaffe17b2f1",
   "metadata": {},
   "outputs": [],
   "source": [
    "Incorrect_pred = []\n",
    "for result in test_results:\n",
    "    if result.ground_truth - result.prediction != 0 :\n",
    "        Incorrect_pred.append(result)\n"
   ]
  },
  {
   "cell_type": "code",
   "execution_count": null,
   "id": "601eb018-2660-4e60-b4d6-560dfb5961bd",
   "metadata": {},
   "outputs": [],
   "source": [
    "print(len(Incorrect_pred))\n",
    "fig = makeResultDataHist(Incorrect_pred)\n"
   ]
  },
  {
   "cell_type": "markdown",
   "id": "a11f117b-995f-4c2a-8549-e536ce74f4a9",
   "metadata": {},
   "source": [
    "## Evaluate on unseen data"
   ]
  },
  {
   "cell_type": "code",
   "execution_count": null,
   "id": "12295059-7be6-4ee8-b66e-c3214f8c6dbf",
   "metadata": {},
   "outputs": [],
   "source": [
    "unseen_data = getData('Datasets/unseenData.obj')"
   ]
  },
  {
   "cell_type": "code",
   "execution_count": null,
   "id": "b93530be-b22e-4fb2-9947-ec8e36d8c9ac",
   "metadata": {},
   "outputs": [],
   "source": [
    "results = []\n",
    "for d in unseen_data:\n",
    "    p = model.predict(np.expand_dims(d.image.astype(\"uint8\"), axis=0)).round()[0,0]\n",
    "    results.append(TestPoint(d.image, d.num_of_cubes, p))"
   ]
  },
  {
   "cell_type": "code",
   "execution_count": null,
   "id": "5f72b176-6d46-456e-910f-ccd1977c176b",
   "metadata": {},
   "outputs": [],
   "source": [
    "error = 0\n",
    "accuracy = 0\n",
    "misses = []\n",
    "for d in results:\n",
    "    if d.ground_truth - d.prediction == 0:\n",
    "        accuracy += 1\n",
    "    else:\n",
    "        error += (d.ground_truth - d.prediction)**2\n",
    "        misses.append(d)\n",
    "\n",
    "error = error / len(results)\n",
    "accuracy = accuracy / len(results)\n",
    "\n",
    "print(\"Corrected MSE       : \" + str(error))\n",
    "print(\"Prediction Accuracy : \" + str(accuracy))\n",
    "\n",
    "fig = makeResultDataHist(misses)"
   ]
  }
 ],
 "metadata": {
  "kernelspec": {
   "display_name": "Python 3 (ipykernel)",
   "language": "python",
   "name": "python3"
  },
  "language_info": {
   "codemirror_mode": {
    "name": "ipython",
    "version": 3
   },
   "file_extension": ".py",
   "mimetype": "text/x-python",
   "name": "python",
   "nbconvert_exporter": "python",
   "pygments_lexer": "ipython3",
   "version": "3.9.10"
  }
 },
 "nbformat": 4,
 "nbformat_minor": 5
}
