{
 "cells": [
  {
   "cell_type": "markdown",
   "id": "92008a62-bc94-419e-a9d4-d4a5572dcf8e",
   "metadata": {},
   "source": [
    "## Loads needed modules to load and evaluate the pretrained model"
   ]
  },
  {
   "cell_type": "code",
   "execution_count": 1,
   "id": "607edc74-8126-4683-b503-13694280925e",
   "metadata": {},
   "outputs": [],
   "source": [
    "import matplotlib.pyplot as plt\n",
    "import numpy as np\n",
    "import os\n",
    "\n",
    "from ModelUtils import *\n",
    "from CountNet import *\n",
    "import pickle\n",
    "\n",
    "import tensorflow as tf\n",
    "from tensorflow.keras import layers\n",
    "from keras.layers.core import Dense\n",
    "from tensorflow.keras.layers import *\n",
    "from tensorflow.keras.models import Sequential\n",
    "from tensorflow.keras.optimizers import Adam\n",
    "from keras.models import Model\n"
   ]
  },
  {
   "cell_type": "markdown",
   "id": "e4b5e5a6-2be2-4dcd-82cf-2963525a5107",
   "metadata": {},
   "source": [
    "# Load Trained Model"
   ]
  },
  {
   "cell_type": "code",
   "execution_count": 15,
   "id": "b95f7dbd-1bf4-4b43-b691-fa5a0c4612e1",
   "metadata": {},
   "outputs": [
    {
     "name": "stdout",
     "output_type": "stream",
     "text": [
      "WARNING:tensorflow:SavedModel saved prior to TF 2.5 detected when loading Keras model. Please ensure that you are saving the model with model.save() or tf.keras.models.save_model(), *NOT* tf.saved_model.save(). To confirm, there should be a file named \"keras_metadata.pb\" in the SavedModel directory.\n"
     ]
    }
   ],
   "source": [
    "model = tf.keras.models.load_model('SavedModels/DeepModel')"
   ]
  },
  {
   "cell_type": "markdown",
   "id": "d4831845-09af-4c52-8688-166f9806e4f7",
   "metadata": {},
   "source": [
    "# Load TestResults from model evaluation"
   ]
  },
  {
   "cell_type": "code",
   "execution_count": 42,
   "id": "d337683b-abad-4992-86f7-5ca1174daf8c",
   "metadata": {},
   "outputs": [
    {
     "name": "stdout",
     "output_type": "stream",
     "text": [
      "Corrected MSE       : 0.007071302298173247\n",
      "Prediction Accuracy : 0.9929286977018268\n"
     ]
    }
   ],
   "source": [
    "error, accuracy, misses = evalOnDataset(test_results, model)"
   ]
  },
  {
   "cell_type": "code",
   "execution_count": 43,
   "id": "f72d7d1e-37b0-48cc-8c61-e3f892b07676",
   "metadata": {},
   "outputs": [
    {
     "name": "stdout",
     "output_type": "stream",
     "text": [
      "[ 9 24  9  2  4]\n"
     ]
    },
    {
     "data": {
      "image/png": "[encoded data removed]",
      "text/plain": [
       "<Figure size 432x288 with 1 Axes>"
      ]
     },
     "metadata": {
      "needs_background": "light"
     },
     "output_type": "display_data"
    }
   ],
   "source": [
    "fig = makeResultDataHist(misses)"
   ]
  },
  {
   "cell_type": "code",
   "execution_count": 35,
   "id": "85182a2b-f75c-4dd8-b3f6-8698733085c0",
   "metadata": {},
   "outputs": [
    {
     "data": {
      "image/png": "[encoded data removed]",
      "text/plain": [
       "<Figure size 432x288 with 1 Axes>"
      ]
     },
     "metadata": {
      "needs_background": "light"
     },
     "output_type": "display_data"
    }
   ],
   "source": [
    "fig2 = missBoxPlots(test_results)"
   ]
  },
  {
   "cell_type": "markdown",
   "id": "41336b29-9275-4f9a-a169-68c9c7893800",
   "metadata": {},
   "source": [
    "## Load unseen dataset and evaluation"
   ]
  },
  {
   "cell_type": "code",
   "execution_count": 22,
   "id": "2bf3abd2-c3da-4c10-9c8c-72af175a4650",
   "metadata": {},
   "outputs": [],
   "source": [
    "unseen_data = getData('Datasets/unseenData.obj')"
   ]
  },
  {
   "cell_type": "code",
   "execution_count": 23,
   "id": "f5dc2bed-b517-43d6-af81-e462f2cad3a4",
   "metadata": {},
   "outputs": [
    {
     "name": "stdout",
     "output_type": "stream",
     "text": [
      "Corrected MSE       : 3.610169491525424\n",
      "Prediction Accuracy : 0.06779661016949153\n"
     ]
    }
   ],
   "source": [
    "error, accuracy, misses = evalOnDataset(unseen_data, model)"
   ]
  },
  {
   "cell_type": "code",
   "execution_count": 24,
   "id": "894f0d16-5c8a-4c3a-9e1b-f75c03dd5d8e",
   "metadata": {},
   "outputs": [
    {
     "name": "stdout",
     "output_type": "stream",
     "text": [
      "[ 0  0  0  0  0  0 59 25 15  4  2  3  2]\n"
     ]
    },
    {
     "data": {
      "image/png": "[encoded data removed]",
      "text/plain": [
       "<Figure size 432x288 with 1 Axes>"
      ]
     },
     "metadata": {
      "needs_background": "light"
     },
     "output_type": "display_data"
    }
   ],
   "source": [
    "fig = makeResultDataHist(misses)"
   ]
  },
  {
   "cell_type": "code",
   "execution_count": null,
   "id": "a4799ccf-f60a-4271-ba83-3086c742d669",
   "metadata": {},
   "outputs": [],
   "source": []
  }
 ],
 "metadata": {
  "kernelspec": {
   "display_name": "Python 3 (ipykernel)",
   "language": "python",
   "name": "python3"
  },
  "language_info": {
   "codemirror_mode": {
    "name": "ipython",
    "version": 3
   },
   "file_extension": ".py",
   "mimetype": "text/x-python",
   "name": "python",
   "nbconvert_exporter": "python",
   "pygments_lexer": "ipython3",
   "version": "3.9.10"
  }
 },
 "nbformat": 4,
 "nbformat_minor": 5
}
